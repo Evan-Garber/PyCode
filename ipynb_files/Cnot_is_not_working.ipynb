{
 "cells": [
  {
   "cell_type": "code",
   "execution_count": 39,
   "id": "800dad48",
   "metadata": {},
   "outputs": [],
   "source": [
    "import torch\n",
    "import numpy as np\n",
    "\n",
    "#Three qubits\n",
    "a = torch.tensor([1,1], dtype=torch.float64) #I took out the sqrt(2) to make it easier to look at. The same results happen with or without it\n",
    "b = torch.tensor([1,0], dtype=torch.float64)\n",
    "c = torch.tensor([1,0], dtype=torch.float64)\n",
    "\n",
    "cnot = torch.tensor([[1,0,0,0],\n",
    "                     [0,1,0,0],\n",
    "                     [0,0,0,1],\n",
    "                     [0,0,1,0]], dtype=torch.float64)\n",
    "\n",
    "i = torch.tensor([[1,0],\n",
    "                  [0,1]], dtype=torch.float64)\n",
    "\n",
    "#This is the supposedly correct cnot gate for 3 qubits, \n",
    "#based on a comment by Ryan O'Donell on this post: \n",
    "#https://quantumcomputing.stackexchange.com/questions/4252/how-to-derive-the-cnot-matrix-for-a-3-qubit-system-where-the-control-target-qu\n",
    "cnot_big = torch.tensor([[1., 0., 0., 0., 0., 0., 0., 0.],\n",
    "                         [0., 1., 0., 0., 0., 0., 0., 0.],\n",
    "                         [0., 0., 1., 0., 0., 0., 0., 0.],\n",
    "                         [0., 0., 0., 1., 0., 0., 0., 0.],\n",
    "                         [0., 0., 0., 0., 0., 1., 0., 0.],\n",
    "                         [0., 0., 0., 0., 1., 0., 0., 0.],\n",
    "                         [0., 0., 0., 0., 0., 0., 0., 1.],\n",
    "                         [0., 0., 0., 0., 0., 0., 1., 0.]], dtype=torch.float64)"
   ]
  },
  {
   "cell_type": "code",
   "execution_count": 40,
   "id": "8258bcf9",
   "metadata": {
    "scrolled": false
   },
   "outputs": [
    {
     "name": "stdout",
     "output_type": "stream",
     "text": [
      "tensor([[1., 0., 0., 0., 0., 0., 0., 0.],\n",
      "        [0., 1., 0., 0., 0., 0., 0., 0.],\n",
      "        [0., 0., 1., 0., 0., 0., 0., 0.],\n",
      "        [0., 0., 0., 1., 0., 0., 0., 0.],\n",
      "        [0., 0., 0., 0., 0., 0., 1., 0.],\n",
      "        [0., 0., 0., 0., 0., 0., 0., 1.],\n",
      "        [0., 0., 0., 0., 1., 0., 0., 0.],\n",
      "        [0., 0., 0., 0., 0., 1., 0., 0.]], dtype=torch.float64)\n"
     ]
    }
   ],
   "source": [
    "cnot_wrong = torch.kron(cnot, i)\n",
    "print(cnot_wrong) #Based on what I've seen online, this is incorrect"
   ]
  },
  {
   "cell_type": "code",
   "execution_count": 41,
   "id": "ee4ae87f",
   "metadata": {},
   "outputs": [
    {
     "name": "stdout",
     "output_type": "stream",
     "text": [
      "tensor([1., 0., 0., 1.], dtype=torch.float64)\n",
      "tensor([1., 0., 0., 1., 0., 0., 0., 0.], dtype=torch.float64)\n",
      "tensor([1., 0., 0., 1., 0., 0., 0., 0.], dtype=torch.float64)\n"
     ]
    }
   ],
   "source": [
    "ab = torch.kron(a,b)\n",
    "\n",
    "ab_new = ab @ cnot\n",
    "\n",
    "abc = torch.kron(c,ab_new)\n",
    "\n",
    "abc_new = abc @ cnot_big\n",
    "\n",
    "print(ab_new) #This is correct\n",
    "print(abc) #This is correct\n",
    "print(abc_new) #This is incorrect\n",
    "\n",
    "#It should be [1,0,0,0,0,0,0,1]\n",
    "#I've tried moving around the matrices within the torch.kron() but that doesn't seem to work\n",
    "#The same results still happen if I use the cnot_wrong from above\n",
    "#I don't know why this isn't working"
   ]
  },
  {
   "cell_type": "code",
   "execution_count": null,
   "id": "0fa9e365",
   "metadata": {},
   "outputs": [],
   "source": []
  }
 ],
 "metadata": {
  "kernelspec": {
   "display_name": "Python 3 (ipykernel)",
   "language": "python",
   "name": "python3"
  },
  "language_info": {
   "codemirror_mode": {
    "name": "ipython",
    "version": 3
   },
   "file_extension": ".py",
   "mimetype": "text/x-python",
   "name": "python",
   "nbconvert_exporter": "python",
   "pygments_lexer": "ipython3",
   "version": "3.11.4"
  }
 },
 "nbformat": 4,
 "nbformat_minor": 5
}
