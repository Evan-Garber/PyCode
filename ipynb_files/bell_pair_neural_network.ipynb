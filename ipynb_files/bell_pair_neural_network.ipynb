{
 "cells": [
  {
   "cell_type": "code",
   "execution_count": 6,
   "id": "e2e2743d",
   "metadata": {
    "scrolled": true
   },
   "outputs": [
    {
     "ename": "TypeError",
     "evalue": "unsupported operand type(s) for *: 'float' and 'NoneType'",
     "output_type": "error",
     "traceback": [
      "\u001b[1;31m---------------------------------------------------------------------------\u001b[0m",
      "\u001b[1;31mTypeError\u001b[0m                                 Traceback (most recent call last)",
      "Cell \u001b[1;32mIn[6], line 38\u001b[0m\n\u001b[0;32m     36\u001b[0m l\u001b[38;5;241m.\u001b[39mbackward(retain_graph\u001b[38;5;241m=\u001b[39m\u001b[38;5;28;01mTrue\u001b[39;00m)\n\u001b[0;32m     37\u001b[0m \u001b[38;5;28;01mwith\u001b[39;00m torch\u001b[38;5;241m.\u001b[39mno_grad():\n\u001b[1;32m---> 38\u001b[0m     a \u001b[38;5;241m-\u001b[39m\u001b[38;5;241m=\u001b[39m learning_rate \u001b[38;5;241m*\u001b[39m a\u001b[38;5;241m.\u001b[39mgrad\n\u001b[0;32m     39\u001b[0m     b \u001b[38;5;241m-\u001b[39m\u001b[38;5;241m=\u001b[39m learning_rate \u001b[38;5;241m*\u001b[39m b\u001b[38;5;241m.\u001b[39mgrad\n\u001b[0;32m     40\u001b[0m     c \u001b[38;5;241m-\u001b[39m\u001b[38;5;241m=\u001b[39m learning_rate \u001b[38;5;241m*\u001b[39m c\u001b[38;5;241m.\u001b[39mgrad\n",
      "\u001b[1;31mTypeError\u001b[0m: unsupported operand type(s) for *: 'float' and 'NoneType'"
     ]
    }
   ],
   "source": [
    "import torch\n",
    "import torch.nn as nn\n",
    "import torch.nn.functional as F\n",
    "import numpy as np\n",
    "\n",
    "In = torch.tensor([1.,0.], dtype=torch.float32)\n",
    "Out = torch.tensor([1.,1.] / np.sqrt(2), dtype=torch.float32)\n",
    "\n",
    "a = torch.tensor(1.0, dtype=torch.float32, requires_grad=True)\n",
    "b = torch.tensor(1.0, dtype=torch.float32, requires_grad=True)\n",
    "c = torch.tensor(1.0, dtype=torch.float32, requires_grad=True)\n",
    "d = torch.tensor(1.0, dtype=torch.float32, requires_grad=True)\n",
    "\n",
    "H = torch.tensor([[a,b],[c,d]], requires_grad=True)\n",
    "\n",
    "def forward(x):\n",
    "     return x @ H\n",
    "    \n",
    "def loss(y, y_pred):\n",
    "    \n",
    "    return ((y - y_pred)**2).mean()\n",
    "\n",
    "X_test = torch.tensor([1.,0.], dtype=torch.float32)\n",
    "\n",
    "learning_rate = 0.01\n",
    "n_epochs = 100\n",
    "\n",
    "for epoch in range(n_epochs):\n",
    "    # predict = forward pass\n",
    "    predict = forward(In)\n",
    "\n",
    "    # loss\n",
    "    l = loss(Out, predict)\n",
    "\n",
    "    # calculate gradients = backward pass\n",
    "    l.backward(retain_graph=True)\n",
    "    with torch.no_grad():\n",
    "        a -= learning_rate * a.grad\n",
    "        b -= learning_rate * b.grad\n",
    "        c -= learning_rate * c.grad\n",
    "        d -= learning_rate * d.grad\n",
    "    \n",
    "    # zero the gradients after updating\n",
    "    a.grad.zero_()\n",
    "    b.grad.zero_()\n",
    "    c.grad.zero_()\n",
    "    d.grad.zero_()\n",
    "\n",
    "    if (epoch+1) % 10 == 0:\n",
    "        print(f'Epoch: {epoch+1}, a = {a.item()}, b = {b.item()}, c = {c.item()}, d = {d.item()} loss = {l.item()}')\n",
    "\n",
    "print(X_test, forward(X_test))"
   ]
  }
 ],
 "metadata": {
  "kernelspec": {
   "display_name": "Python 3 (ipykernel)",
   "language": "python",
   "name": "python3"
  },
  "language_info": {
   "codemirror_mode": {
    "name": "ipython",
    "version": 3
   },
   "file_extension": ".py",
   "mimetype": "text/x-python",
   "name": "python",
   "nbconvert_exporter": "python",
   "pygments_lexer": "ipython3",
   "version": "3.11.4"
  }
 },
 "nbformat": 4,
 "nbformat_minor": 5
}
