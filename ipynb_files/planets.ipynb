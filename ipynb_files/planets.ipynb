%matplotlib notebook

import numpy as np
import matplotlib.pyplot as plt
from matplotlib.animation import FuncAnimation
import matplotlib.animation as animation

fig = plt.figure()

axes = plt.axes(xlim=(-5,5),ylim=(-5,5))
# ax = plt.axes(xlim=(-30, 30), ylim=(-30, 30))

# class planet:
#     def __init__(self,
#                  # name = 'name',
#                  mass = 1.0,
#                  x = 0.0, y = 0.0, 
#                  vx = 0.0, vy = 0.0,
#                  ):
#         # self.name = name
#         self.mass = mass
#         self.x = x
#         self.y = y
#         self.vx = vx
#         self.vy = vy

colors = ['tab:blue','tab:orange','tab:green','tab:red']

planets = []

def create_planet(mass, x, y, vx, vy):
    planets.append([mass,x,y,vx,vy])
    
create_planet(1,-10,0,0,0)
create_planet(2,10,0,0,0)
create_planet(3,0,10,0,0)
create_planet(4,0,-10,0,0)


G = 1e1
dt = 0.01

def acceleration(ref):
    ax = 0
    ay = 0
    for i in range(len(planets)):
        if i != ref:
            dx = planets[ref][1] - planets[i][1]
            dy = planets[ref][2] - planets[i][2]
            dist = np.sqrt(dx**2 + dy**2)
            ax += - G * planets[i][0] / dist**2 * dx / dist
            ay += - G * planets[i][0] / dist**2 * dy / dist
            
            if dist == 0:
                explode(ref)
    return ax, ay

def velocity(ref):
    ax, ay = acceleration(ref)
    planets[ref][3] += ax * dt
    planets[ref][4] += ay * dt

def displacement(ref):
    planets[ref][1] += planets[ref][3] * dt
    planets[ref][2] += planets[ref][4] * dt
    

def explode(ref):

def animate(i):
    
    axes.clear()
    axes.set_xlim(-10,10)
    axes.set_ylim(-10,10)
    
    for j in range(len(planets)):
        acceleration(j)
        velocity(j)
        displacement(j)

        axes.plot(planets[j][1],planets[j][2], 'o', color=colors[j], markersize = 5 * np.sqrt(planets[j][0]))
    
def init():
    
    for i in range(len(planets)):
        
        axes.plot(planets[i][1],planets[i][2], 'o', markersize = 5 * np.sqrt(planets[i][0]))


anim = animation.FuncAnimation(fig, animate, init_func = init,
                               frames=20, interval=10)

# # writervideo = animation.FFMpegWriter(fps=30) 
# # anim.save("planets.mp4", writer=writervideo)
plt.show()
