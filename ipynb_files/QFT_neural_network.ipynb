{
 "cells": [
  {
   "cell_type": "code",
   "execution_count": 3,
   "id": "6968175c",
   "metadata": {},
   "outputs": [
    {
     "name": "stdout",
     "output_type": "stream",
     "text": [
      "epoch: 0, loss: 0.4267746638123057\n",
      "epoch: 500, loss: 0.00953307595602898\n",
      "epoch: 1000, loss: 0.001293765092624799\n",
      "epoch: 1500, loss: 0.00044036633262115044\n",
      "epoch: 2000, loss: 0.0008907176115430238\n",
      "tensor([0.3536+0.j, 0.3536+0.j, 0.3536+0.j, 0.3536+0.j, 0.3536+0.j, 0.3536+0.j, 0.3536+0.j,\n",
      "        0.3536+0.j], dtype=torch.complex128, grad_fn=<SqueezeBackward4>)\n"
     ]
    },
    {
     "data": {
      "text/plain": [
       "[<matplotlib.lines.Line2D at 0x15ff1bcf290>]"
      ]
     },
     "execution_count": 3,
     "metadata": {},
     "output_type": "execute_result"
    },
    {
     "data": {
      "image/png": "[encoded data removed]",
      "text/plain": [
       "<Figure size 640x480 with 1 Axes>"
      ]
     },
     "metadata": {},
     "output_type": "display_data"
    }
   ],
   "source": [
    "import torch\n",
    "import torch.nn as nn\n",
    "import torchvision\n",
    "from torch.utils.data import Dataset\n",
    "from torch.nn.parameter import Parameter\n",
    "import pandas as pd\n",
    "import matplotlib.pyplot as plt\n",
    "import numpy as np\n",
    "\n",
    "num_qubits = 8\n",
    "\n",
    "batch_size = 8\n",
    "\n",
    "num_epochs = 2001\n",
    "\n",
    "learning_rate = 1e-3\n",
    "\n",
    "n = 3\n",
    "N = 2**n\n",
    "\n",
    "loss_graph = []\n",
    "\n",
    "class input_vec_dataset(Dataset):\n",
    "    def __init__(self):\n",
    "        \n",
    "        self.n = n\n",
    "        self.N = N\n",
    "\n",
    "        F = torch.zeros((N,N), dtype=torch.complex128)\n",
    "        w = np.exp(-2*np.pi*1j / N)\n",
    "\n",
    "        for k in range(N):\n",
    "            for j in range(N):\n",
    "                F[j][k] = w**(j*k) / np.sqrt(N)\n",
    "\n",
    "        dataset = []\n",
    "        labels = []\n",
    "\n",
    "        for i in range(num_qubits):\n",
    "            phi = np.random.rand() * 2*np.pi\n",
    "            theta = np.random.rand() * np.pi\n",
    "\n",
    "            input_qubit = torch.tensor([np.sin(theta), np.cos(theta) * np.exp(1j * phi)])\n",
    "            dataset.append(input_qubit)\n",
    "\n",
    "            q = input_qubit\n",
    "            q0 = torch.tensor([1,0], dtype=torch.complex128)\n",
    "\n",
    "            for i in range(n-1):\n",
    "                q = torch.kron(q,q0)\n",
    "            q = q @ F\n",
    "            labels.append(q)\n",
    "            \n",
    "        self.dataset = torch.stack(dataset)\n",
    "        self.labels = torch.stack(labels)\n",
    "        \n",
    "    def __len__(self):\n",
    "        return len(self.dataset)\n",
    "    \n",
    "    def __getitem__(self, idx):\n",
    "        return self.dataset[idx],self.labels[idx]\n",
    "\n",
    "data_set = input_vec_dataset()\n",
    "\n",
    "data_loader = torch.utils.data.DataLoader(data_set, batch_size=batch_size, shuffle=False, drop_last=False)\n",
    "\n",
    "class HModel(torch.nn.Module):\n",
    "    \n",
    "    def __init__(self):\n",
    "        super(HModel, self).__init__()\n",
    "        self.w = Parameter(torch.rand(1, dtype=torch.complex128))\n",
    "      \n",
    "    def forward(self, x):\n",
    "        w = self.w\n",
    "        \n",
    "        F = torch.zeros((N,N), dtype=torch.complex128)\n",
    "        \n",
    "        for k in range(N):\n",
    "            for j in range(N):\n",
    "                F[j][k] = w**(j*k) / np.sqrt(N)\n",
    "            \n",
    "        q=x\n",
    "        \n",
    "        for i in range(n-1):\n",
    "            q0 = torch.tensor([1,0], dtype=torch.complex128)\n",
    "            q = torch.kron(q,q0)\n",
    "            \n",
    "        return q @ F\n",
    "    \n",
    "model = HModel()\n",
    "\n",
    "def quantum_infidelity_batched(state_batch, target_state_batch):\n",
    "\n",
    "    loss = torch.stack([torch.abs(1 - torch.abs(torch.dot(target_state.conj(), state))**2)\n",
    "                        for state, target_state in zip(state_batch, target_state_batch)]).mean()\n",
    "    \n",
    "    fidelity = torch.stack([torch.abs(torch.dot(target_state.conj(), state))**2\n",
    "                        for state, target_state in zip(state_batch, target_state_batch)]).mean()\n",
    "    \n",
    "    loss_graph.append(fidelity.item())\n",
    "    \n",
    "    return loss\n",
    "\n",
    "optimizer = torch.optim.Adam(model.parameters(), lr=learning_rate)\n",
    "\n",
    "for epoch in range(num_epochs):\n",
    "    \n",
    "    for batch, labels in data_loader:\n",
    "        \n",
    "        optimizer.zero_grad()\n",
    "        \n",
    "        outputs = model(batch)\n",
    "        \n",
    "        loss = quantum_infidelity_batched(outputs, labels) \n",
    "\n",
    "        loss.backward()\n",
    "        \n",
    "        optimizer.step()\n",
    "        \n",
    "    if epoch % 500 == 0:\n",
    "        \n",
    "        print(f'epoch: {epoch}, loss: {loss}')\n",
    "        \n",
    "model.eval()\n",
    "\n",
    "q_test = torch.tensor([1,0], dtype=torch.complex128)\n",
    "\n",
    "q_out = model(q_test)\n",
    "\n",
    "print(q_out)\n",
    "\n",
    "x_graph = np.arange(num_epochs * num_qubits / batch_size)\n",
    "plt.plot(x_graph,loss_graph)"
   ]
  },
  {
   "cell_type": "code",
   "execution_count": 48,
   "id": "a526eca8",
   "metadata": {},
   "outputs": [
    {
     "name": "stdout",
     "output_type": "stream",
     "text": [
      "tensor([[1, 0, 0, 0, 1, 0, 0, 0],\n",
      "        [0, 1, 0, 0, 0, 1, 0, 0],\n",
      "        [0, 0, 1, 0, 0, 0, 1, 0],\n",
      "        [0, 0, 0, 1, 0, 0, 0, 1]])\n",
      "tensor([[ 0,  1,  0,  0,  0, -1,  0,  0],\n",
      "        [ 1,  0,  0,  0, -1,  0,  0,  0],\n",
      "        [ 0,  0,  0,  1,  0,  0,  0, -1],\n",
      "        [ 0,  0,  1,  0,  0,  0, -1,  0]])\n",
      "tensor([[ 1,  1,  0,  0,  1, -1,  0,  0],\n",
      "        [ 1,  1,  0,  0, -1,  1,  0,  0],\n",
      "        [ 0,  0,  1,  1,  0,  0,  1, -1],\n",
      "        [ 0,  0,  1,  1,  0,  0, -1,  1]])\n"
     ]
    }
   ],
   "source": [
    "q0 = torch.tensor([1,0])\n",
    "q1 = torch.tensor([0,1])\n",
    "h = torch.tensor([[1,1],\n",
    "                  [1,-1]])\n",
    "i = torch.tensor([[1,0],\n",
    "                  [0,1]])\n",
    "x = torch.tensor([[0,1],\n",
    "                  [1,0]])\n",
    "cnot = torch.tensor([[1,0,0,0],\n",
    "                     [0,1,0,0],\n",
    "                     [0,0,0,1],\n",
    "                     [0,0,1,0]])\n",
    "\n",
    "a = h @ q0\n",
    "a = torch.kron(a,i)\n",
    "a = torch.kron(a,i)\n",
    "b = h @ q1\n",
    "b = torch.kron(b,i)\n",
    "b = torch.kron(b,x)\n",
    "c = a + b\n",
    "print(a)\n",
    "print(b)\n",
    "print(c)"
   ]
  },
  {
   "cell_type": "code",
   "execution_count": 33,
   "id": "f5ad3cf9",
   "metadata": {},
   "outputs": [],
   "source": [
    "a = torch.kron(q0,q0)\n",
    "a = torch.kron(a,q0)\n",
    "h1 = torch.kron(h,i)\n",
    "h1 = torch.kron(h1,i)"
   ]
  },
  {
   "cell_type": "code",
   "execution_count": 43,
   "id": "7ef73b87",
   "metadata": {},
   "outputs": [
    {
     "name": "stdout",
     "output_type": "stream",
     "text": [
      "tensor([0, 0, 0, 1, 0, 0, 0, 1])\n"
     ]
    }
   ],
   "source": [
    "c = torch.kron(h,x)\n",
    "c = torch.kron(c,x)\n",
    "a = torch.kron(q0,q0)\n",
    "a = torch.kron(a,q0)\n",
    "a = a@c\n",
    "print(a)"
   ]
  },
  {
   "cell_type": "code",
   "execution_count": null,
   "id": "486158e0",
   "metadata": {},
   "outputs": [],
   "source": []
  }
 ],
 "metadata": {
  "kernelspec": {
   "display_name": "Python 3 (ipykernel)",
   "language": "python",
   "name": "python3"
  },
  "language_info": {
   "codemirror_mode": {
    "name": "ipython",
    "version": 3
   },
   "file_extension": ".py",
   "mimetype": "text/x-python",
   "name": "python",
   "nbconvert_exporter": "python",
   "pygments_lexer": "ipython3",
   "version": "3.11.4"
  }
 },
 "nbformat": 4,
 "nbformat_minor": 5
}
