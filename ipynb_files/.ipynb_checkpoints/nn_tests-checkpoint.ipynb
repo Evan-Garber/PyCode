{
 "cells": [
  {
   "cell_type": "code",
   "execution_count": 1,
   "id": "14bf801f",
   "metadata": {},
   "outputs": [
    {
     "data": {
      "text/plain": [
       "tensor([ 0.5000+0.j,  0.0000+0.j,  0.0000+0.j,  0.5000+0.j,  0.5000+0.j,  0.0000+0.j,\n",
       "         0.0000+0.j, -0.5000+0.j], dtype=torch.complex128)"
      ]
     },
     "execution_count": 1,
     "metadata": {},
     "output_type": "execute_result"
    }
   ],
   "source": [
    "import torch\n",
    "import numpy as np\n",
    "\n",
    "h = torch.tensor([[1.,1.],[1.,-1]] / np.sqrt(2), dtype=torch.complex128)\n",
    "\n",
    "cnot = torch.tensor([[1,0,0,0],\n",
    "                     [0,1,0,0],\n",
    "                     [0,0,0,1],\n",
    "                     [0,0,1,0]], dtype=torch.complex128)\n",
    "\n",
    "i = torch.tensor([[1,0],\n",
    "                  [0,1]], dtype=torch.complex128)\n",
    "x = torch.tensor([[0,1],\n",
    "                  [1,0]], dtype=torch.complex128)\n",
    "# cphase = torch.tensor([[1,0,0,0],\n",
    "#                        [0,1,0,0],\n",
    "#                        [0,0,1,0],\n",
    "#                        [0,0,0,torch.exp(1j*2*np.pi/(2**k))]], \n",
    "#                       dtype=torch.complex128)\n",
    "\n",
    "q0 = torch.tensor([1,0], dtype=torch.complex128)\n",
    "\n",
    "q1 = torch.tensor([1,0], dtype=torch.complex128)\n",
    "\n",
    "q2 = torch.tensor([1,0], dtype=torch.complex128)\n",
    "\n",
    "q01 = torch.kron(q0,q1)\n",
    "q012 = torch.kron(q01,q2)\n",
    "\n",
    "h1 = torch.kron(h,i)\n",
    "h1 = torch.kron(h1,i)\n",
    "\n",
    "h2 = torch.kron(i,h)\n",
    "h2 = torch.kron(h2,i)\n",
    "\n",
    "h3 = torch.kron(i,h)\n",
    "h3 = torch.kron(i,h3)\n",
    "\n",
    "cnot12 = torch.kron(cnot,i)\n",
    "\n",
    "cnot23 = torch.kron(i,cnot)\n",
    "\n",
    "q012 = q012 @ h1\n",
    "q012 = q012 @ cnot12\n",
    "q012 = q012 @ h2\n",
    "q012 = q012 @ cnot23\n",
    "\n",
    "q012\n",
    "\n",
    "# for k in range(n):\n",
    "#     cphase = torch.tensor([[1,0,0,0],\n",
    "#                            [0,1,0,0],\n",
    "#                            [0,0,1,0],\n",
    "#                            [0,0,0,np.exp(1j*2*np.pi/(2**k))]], \n",
    "#                            dtype=torch.complex128)\n",
    "#     q01 = torch.kron(q0,q1)\n",
    "#     q01 = q01 @ cphase\n",
    "    \n",
    "#     print(q01)"
   ]
  },
  {
   "cell_type": "code",
   "execution_count": null,
   "id": "4a5731f6",
   "metadata": {},
   "outputs": [],
   "source": [
    "h = torch.tensor([[1.,1.],[1.,-1]] / np.sqrt(2), dtype=torch.complex128)\n",
    "\n",
    "cnot = torch.tensor([[1,0,0,0],\n",
    "                     [0,1,0,0],\n",
    "                     [0,0,0,1],\n",
    "                     [0,0,1,0]], dtype=torch.complex128)\n",
    "\n",
    "i = torch.tensor([[1,0],\n",
    "                  [0,1]], dtype=torch.complex128)\n",
    "x = torch.tensor([[0,1],\n",
    "                  [1,0]], dtype=torch.complex128)\n",
    "\n",
    "n = 3\n",
    "N = 2**n\n",
    "\n",
    "qubits = [[],[],[]]\n",
    "qubits_new2 = []\n",
    "\n",
    "for n in range(n):\n",
    "    qubits[n] = torch.tensor([1,0], dtype=torch.complex128)\n",
    "    \n",
    "for n in range(n):\n",
    "    qubits[n] = qubits[n] @ h\n",
    "    for k in range(n+1):        \n",
    "        phase = torch.tensor([[1,0],\n",
    "                             [0,np.exp(1j*2*np.pi/(2**(k+1)))]])\n",
    "        qubits[n] = qubits[n] @ phase\n",
    "        cphase = torch.tensor([[1,0,0,0],\n",
    "                               [0,1,0,0],\n",
    "                               [0,0,1,0],\n",
    "                               [0,0,0,np.exp(1j*2*np.pi/(2**(k+1)))]], \n",
    "                               dtype=torch.complex128)\n",
    "        q = torch.kron(qubits[n],torch.tensor([[1,0],[1,0]], dtype=torch.complex128))\n",
    "        print(q)\n",
    "print(qubits)"
   ]
  }
 ],
 "metadata": {
  "kernelspec": {
   "display_name": "Python 3 (ipykernel)",
   "language": "python",
   "name": "python3"
  },
  "language_info": {
   "codemirror_mode": {
    "name": "ipython",
    "version": 3
   },
   "file_extension": ".py",
   "mimetype": "text/x-python",
   "name": "python",
   "nbconvert_exporter": "python",
   "pygments_lexer": "ipython3",
   "version": "3.11.4"
  }
 },
 "nbformat": 4,
 "nbformat_minor": 5
}
